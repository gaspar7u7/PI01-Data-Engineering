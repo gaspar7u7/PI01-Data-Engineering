{
 "cells": [
  {
   "cell_type": "code",
   "execution_count": 10,
   "metadata": {},
   "outputs": [],
   "source": [
    "import pandas as pd\n",
    "import os\n",
    "path = \".\"\n",
    "text_columns = [\"type\", \"title\", \"director\", \"cast\", \"country\", \"rating\", \"listed_in\", \"description\", \"duration\", \"score\", \"duration_type\"]\n",
    "cols = {'show_id': 'str', 'type': 'category', 'title': 'str', 'director': 'str', 'cast': 'str', 'country': 'str', 'date_added': 'datetime64', 'release_year': 'int16', 'rating': 'str', 'listed_in': 'str', 'description': 'str', 'score': 'int8'}\n",
    "for file in os.listdir(path):\n",
    "    if file.endswith(\".csv\"):\n",
    "        first_letter = file[0]\n",
    "        df = pd.read_csv(os.path.join(path, file))\n",
    "        df[\"id\"] = first_letter + df[\"show_id\"]\n",
    "        df[\"rating\"].fillna(\"G\", inplace=True)\n",
    "        df[\"date_added\"] = pd.to_datetime(df[\"date_added\"]).dt.strftime('%Y-%m-%d')\n",
    "        if 'duration' in df.columns:\n",
    "            df[[\"duration_int\", \"duration_type\"]] = df[\"duration\"].str.split(\" \", expand=True)\n",
    "            df[\"duration_int\"] = pd.to_numeric(df[\"duration_int\"], errors='coerce')\n",
    "            df[\"score\"] = pd.to_numeric(df[\"score\"], errors='coerce')\n",
    "        for column in text_columns:\n",
    "            df[column] = df[column].apply(lambda x: x.lower() if isinstance(x, str) else x)\n",
    "        df = df.astype(cols) \n",
    "        df[\"score\"] = df[\"score\"].astype(int)\n",
    "        # Guardar el archivo transformado\n",
    "        df.to_csv(os.path.join(path, file), index=False)\n",
    "        # print(df.info())"
   ]
  }
 ],
 "metadata": {
  "kernelspec": {
   "display_name": "Python 3",
   "language": "python",
   "name": "python3"
  },
  "language_info": {
   "codemirror_mode": {
    "name": "ipython",
    "version": 3
   },
   "file_extension": ".py",
   "mimetype": "text/x-python",
   "name": "python",
   "nbconvert_exporter": "python",
   "pygments_lexer": "ipython3",
   "version": "3.8.10"
  },
  "orig_nbformat": 4,
  "vscode": {
   "interpreter": {
    "hash": "916dbcbb3f70747c44a77c7bcd40155683ae19c65e1c03b4aa3499c5328201f1"
   }
  }
 },
 "nbformat": 4,
 "nbformat_minor": 2
}
